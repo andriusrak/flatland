{
  "nbformat": 4,
  "nbformat_minor": 0,
  "metadata": {
    "colab": {
      "provenance": [],
      "gpuType": "T4",
      "collapsed_sections": [
        "yilsN8IN91XF"
      ]
    },
    "kernelspec": {
      "name": "python3",
      "display_name": "Python 3"
    },
    "language_info": {
      "name": "python"
    },
    "accelerator": "GPU"
  },
  "cells": [
    {
      "cell_type": "markdown",
      "source": [
        "Užduotis: https://trokas.github.io/ai_primer/Flatland.html"
      ],
      "metadata": {
        "id": "kJITDq-GaYyA"
      }
    },
    {
      "cell_type": "markdown",
      "source": [
        "# Duomenys"
      ],
      "metadata": {
        "id": "vMChsz7hDzbM"
      }
    },
    {
      "cell_type": "markdown",
      "source": [
        "Duomenų įkėlimas"
      ],
      "metadata": {
        "id": "Fve54a3K-7Zq"
      }
    },
    {
      "cell_type": "code",
      "source": [
        "path_to_flatland_train_data = '/content/flatland_train.data'\n",
        "path_to_flatland_test_data = '/content/flatland_test.data'\n",
        "\n",
        "import pickle, gzip\n",
        "\n",
        "X_train, y_train = pickle.load(gzip.open(path_to_flatland_train_data, 'rb'))\n",
        "X_eval, y_eval = pickle.load(gzip.open(path_to_flatland_test_data, 'rb'))"
      ],
      "metadata": {
        "id": "ixu0fOxE42Fv"
      },
      "execution_count": 25,
      "outputs": []
    },
    {
      "cell_type": "markdown",
      "source": [
        "# Duomenu peržiūra"
      ],
      "metadata": {
        "id": "yilsN8IN91XF"
      }
    },
    {
      "cell_type": "markdown",
      "source": [
        "Peržiūrome turimus duomenis"
      ],
      "metadata": {
        "id": "pzq1jckMD2Kx"
      }
    },
    {
      "cell_type": "code",
      "source": [
        "print(\"X_train shape:\", X_train.shape)\n",
        "print(\"Total elements in X_train:\", X_train.size)\n",
        "print(\"X_train data type:\", X_train.dtype)\n",
        "print(\"y_train shape:\", y_train.shape)\n",
        "print(\"Total elements in y_train:\", y_train.size)\n",
        "print(\"y_train data type:\", y_train.dtype)"
      ],
      "metadata": {
        "colab": {
          "base_uri": "https://localhost:8080/"
        },
        "id": "noMDo2yzcgKw",
        "outputId": "168ac313-9ffe-41ee-a48b-78c5c17e8dd9"
      },
      "execution_count": null,
      "outputs": [
        {
          "output_type": "stream",
          "name": "stdout",
          "text": [
            "X_train shape: (10000, 50, 50)\n",
            "Total elements in X_train: 25000000\n",
            "X_train data type: float64\n",
            "y_train shape: (10000,)\n",
            "Total elements in y_train: 10000\n",
            "y_train data type: float64\n"
          ]
        }
      ]
    },
    {
      "cell_type": "code",
      "source": [
        "import numpy as np\n",
        "\n",
        "print(y_train[:10])\n",
        "print(np.min(y_train), np.max(y_train))  # Check the min and max of the labels\n",
        "print(np.unique(y_train))  # Show unique values in y_train\n",
        "\n",
        "unique_values, counts = np.unique(y_train, return_counts=True)\n",
        "for value, count in zip(unique_values, counts):\n",
        "    print(f\"Value {value}: {count} occurrences\")"
      ],
      "metadata": {
        "colab": {
          "base_uri": "https://localhost:8080/"
        },
        "id": "B9I0TsXEVKMz",
        "outputId": "a0e91794-3717-4ff0-f1f9-a5214b72f7bd"
      },
      "execution_count": null,
      "outputs": [
        {
          "output_type": "stream",
          "name": "stdout",
          "text": [
            "[4. 6. 5. 4. 3. 3. 4. 4. 6. 0.]\n",
            "0.0 6.0\n",
            "[0. 3. 4. 5. 6.]\n",
            "Value 0.0: 1381 occurrences\n",
            "Value 3.0: 2853 occurrences\n",
            "Value 4.0: 1868 occurrences\n",
            "Value 5.0: 2137 occurrences\n",
            "Value 6.0: 1761 occurrences\n"
          ]
        }
      ]
    },
    {
      "cell_type": "code",
      "source": [
        "import matplotlib.pyplot as plt\n",
        "\n",
        "plt.figure(figsize=(5,3))\n",
        "for i in range(15):\n",
        "  plt.subplot (3,5, i+1)\n",
        "  plt.imshow(X_train[i], cmap='gray')\n",
        "  plt.axis('off')\n",
        "plt.show()"
      ],
      "metadata": {
        "colab": {
          "base_uri": "https://localhost:8080/",
          "height": 286
        },
        "id": "1WUKUXXDCJGl",
        "outputId": "86818754-4f7d-490c-98d0-f09d4ccf2428"
      },
      "execution_count": null,
      "outputs": [
        {
          "output_type": "display_data",
          "data": {
            "text/plain": [
              "<Figure size 500x300 with 15 Axes>"
            ],
            "image/png": "[encoded data removed]"
          },
          "metadata": {}
        }
      ]
    },
    {
      "cell_type": "markdown",
      "source": [
        "# Duomenų apdorojimas"
      ],
      "metadata": {
        "id": "4qB_KOi6-nAy"
      }
    },
    {
      "cell_type": "markdown",
      "source": [
        "Figūrų labels paverčiam į integers, ir pakeičiam jų mapping"
      ],
      "metadata": {
        "id": "dD071tA4RYgc"
      }
    },
    {
      "cell_type": "code",
      "source": [
        "import numpy as np\n",
        "\n",
        "y_train = y_train.astype(int)\n",
        "\n",
        "y_train[y_train != 0] -= 2    # Correct labels so that triangle is mapped to class 1\n",
        "print(np.unique(y_train))  # Show unique values in y_train"
      ],
      "metadata": {
        "id": "QApsWiu_SIDP",
        "colab": {
          "base_uri": "https://localhost:8080/"
        },
        "outputId": "f1a0533e-3f5b-4e6d-d312-f1798f1fce29"
      },
      "execution_count": 26,
      "outputs": [
        {
          "output_type": "stream",
          "name": "stdout",
          "text": [
            "[0 1 2 3 4]\n"
          ]
        }
      ]
    },
    {
      "cell_type": "code",
      "source": [
        "import torch\n",
        "\n",
        "X_train = torch.tensor(X_train, dtype = torch.float32)\n",
        "y_train = torch.tensor(y_train, dtype=torch.long)"
      ],
      "metadata": {
        "id": "H3to4znCr-lD"
      },
      "execution_count": 27,
      "outputs": []
    },
    {
      "cell_type": "markdown",
      "source": [
        "Figūras sucentruojame, kad būtų paveiksliuko centre ir maždaug suvienodinam jų dydį."
      ],
      "metadata": {
        "id": "j9tVkW6pREwv"
      }
    },
    {
      "cell_type": "code",
      "source": [
        "import torch\n",
        "import torchvision.transforms as transforms\n",
        "import torch.nn.functional as F\n",
        "import random\n",
        "\n",
        "def augment_with_scaling(X_train, min_scale=0.5, max_scale=2.0):\n",
        "    # Add channel dimension if not present\n",
        "    if len(X_train.shape) == 3:\n",
        "        X_train = X_train.unsqueeze(1)\n",
        "\n",
        "    augmented = torch.zeros_like(X_train)\n",
        "\n",
        "    for i in range(len(X_train)):\n",
        "        # Find the actual shape boundaries\n",
        "        nonzero = torch.nonzero(X_train[i].squeeze())\n",
        "        if len(nonzero) > 0:\n",
        "            y_min, x_min = nonzero.min(0)[0]\n",
        "            y_max, x_max = nonzero.max(0)[0]\n",
        "\n",
        "            # Calculate current shape size\n",
        "            height = y_max - y_min + 1\n",
        "            width = x_max - x_min + 1\n",
        "            max_dim = max(height, width)\n",
        "\n",
        "            min_size = 20\n",
        "\n",
        "            # Calculate safe scale factor to ensure shape fits\n",
        "            #max_safe_scale = min(45 / max_dim, max_scale)  # Leave some padding\n",
        "            #scale = random.uniform(min_scale, max_safe_scale)\n",
        "                        # Ensure shape has at least min_size after scaling\n",
        "            if max_dim < min_size:\n",
        "                scale = min_size / max_dim\n",
        "            else:\n",
        "                max_safe_scale = min(45 / max_dim, max_scale)  # Leave some padding\n",
        "                scale = random.uniform(min_scale, max_safe_scale)\n",
        "\n",
        "\n",
        "            # Extract and scale the shape\n",
        "            shape = X_train[i, :, y_min:y_max+1, x_min:x_max+1]\n",
        "            new_size = int(max_dim * scale)\n",
        "            #resized = transforms.Resize((new_size, new_size))(shape)\n",
        "            resized = F.interpolate(shape.unsqueeze(0), size=(new_size, new_size), mode='bilinear', align_corners=False).squeeze(0)\n",
        "            # Center in the 50x50 frame\n",
        "            y_start = (50 - new_size) // 2\n",
        "            x_start = (50 - new_size) // 2\n",
        "            augmented[i, :, y_start:y_start + new_size, x_start:x_start + new_size] = resized\n",
        "        else:\n",
        "            augmented[i] = X_train[i]  # Copy original if no shape found\n",
        "\n",
        "    return augmented\n",
        "\n",
        "# Use the function\n",
        "X_train = augment_with_scaling(X_train, min_scale=0.5, max_scale=2)"
      ],
      "metadata": {
        "id": "HxsoDoALtQoc"
      },
      "execution_count": 28,
      "outputs": []
    },
    {
      "cell_type": "markdown",
      "source": [
        "Turime tokį duomenų pasiskirstymą:\n",
        "  \n",
        "\n",
        "*   Value 0.0: 1381 occurrences\n",
        "*   Value 3.0: 2853 occurrences\n",
        "*   Value 4.0: 1868 occurrences\n",
        "*   Value 5.0: 2137 occurrences\n",
        "*   Value 6.0: 1761 occurrences\n",
        "\n",
        "Suvienodinam turimų paveiksliukų kiekį, kad modelis neturėtų bias daugumos klasei.\n",
        "Sintetinius duomenis gauname pasukdami, paversdami, pakeičiant dydį turimų figūrų."
      ],
      "metadata": {
        "id": "9VPxQ6oLR-jq"
      }
    },
    {
      "cell_type": "code",
      "source": [
        "import torch\n",
        "from torchvision import transforms\n",
        "import random\n",
        "\n",
        "# Define augmentations\n",
        "augment = transforms.Compose([\n",
        "    transforms.RandomRotation(30),\n",
        "    transforms.RandomResizedCrop(50, scale=(0.8, 1.2)),\n",
        "    transforms.RandomHorizontalFlip(),\n",
        "    transforms.RandomVerticalFlip()\n",
        "])\n",
        "\n",
        "def augment_class(X_train, y_train, target_class, n_samples):\n",
        "    \"\"\"Generate synthetic samples for a specific class to reach n_samples.\"\"\"\n",
        "    class_indices = (y_train == target_class).nonzero(as_tuple=True)[0]\n",
        "    synthetic_samples = []\n",
        "    synthetic_labels = []\n",
        "\n",
        "    while len(synthetic_samples) < n_samples:\n",
        "        idx = random.choice(class_indices)\n",
        "        sample = X_train[idx].unsqueeze(0)  # Add batch dimension\n",
        "        augmented_sample = augment(sample)\n",
        "        synthetic_samples.append(augmented_sample)\n",
        "        synthetic_labels.append(torch.tensor(target_class))\n",
        "\n",
        "    synthetic_samples = torch.cat(synthetic_samples[:n_samples - len(class_indices)])\n",
        "    synthetic_labels = torch.stack(synthetic_labels[:n_samples - len(class_indices)])\n",
        "    return synthetic_samples, synthetic_labels\n",
        "\n",
        "# Get the number of samples in the majority class\n",
        "class_counts = torch.bincount(y_train.int())\n",
        "max_count = class_counts.max().item()\n",
        "\n",
        "# Augment each class to match the majority class count\n",
        "balanced_X = []\n",
        "balanced_y = []\n",
        "\n",
        "for target_class in range(len(class_counts)):\n",
        "    class_indices = (y_train == target_class).nonzero(as_tuple=True)[0]\n",
        "    X_class = X_train[class_indices]\n",
        "    y_class = y_train[class_indices]\n",
        "\n",
        "    # Add original samples\n",
        "    balanced_X.append(X_class)\n",
        "    balanced_y.append(y_class)\n",
        "\n",
        "    # Generate synthetic samples if needed\n",
        "    if len(class_indices) < max_count:\n",
        "        synthetic_X, synthetic_y = augment_class(X_train, y_train, target_class, max_count)\n",
        "        balanced_X.append(synthetic_X)\n",
        "        balanced_y.append(synthetic_y)\n",
        "\n",
        "# Combine all balanced data\n",
        "X_train_balanced = torch.cat(balanced_X)\n",
        "y_train_balanced = torch.cat(balanced_y)\n",
        "\n",
        "# Shuffle the balanced dataset\n",
        "perm = torch.randperm(X_train_balanced.size(0))\n",
        "X_train_balanced = X_train_balanced[perm]\n",
        "y_train_balanced = y_train_balanced[perm]\n",
        "\n",
        "print(\"Balanced class distribution:\", torch.bincount(y_train_balanced.int()))\n",
        "\n",
        "X_train = X_train_balanced\n",
        "y_train = y_train_balanced"
      ],
      "metadata": {
        "colab": {
          "base_uri": "https://localhost:8080/"
        },
        "id": "5zjJKWa9DulM",
        "outputId": "4b84404d-91aa-4ef4-95a5-3ada2b07fea2"
      },
      "execution_count": 29,
      "outputs": [
        {
          "output_type": "stream",
          "name": "stdout",
          "text": [
            "Balanced class distribution: tensor([2853, 2853, 2853, 2853, 2853])\n"
          ]
        }
      ]
    },
    {
      "cell_type": "markdown",
      "source": [
        "Sobel filtras. Nenaudoti"
      ],
      "metadata": {
        "id": "lcSQ6KGmE0As"
      }
    },
    {
      "cell_type": "code",
      "source": [
        "import torch\n",
        "import torch.nn.functional as F\n",
        "\n",
        "device = 'cuda' if torch.cuda.is_available() else 'cpu'\n",
        "\n",
        "\n",
        "\n",
        "\n",
        "# Define Sobel filters for x and y directions\n",
        "sobel_x = torch.tensor([[-1., 0., 1.],\n",
        "                        [-2., 0., 2.],\n",
        "                        [-1., 0., 1.]]).reshape(1, 1, 3, 3)\n",
        "\n",
        "sobel_y = torch.tensor([[-1., -2., -1.],\n",
        "                        [0., 0., 0.],\n",
        "                        [1., 2., 1.]]).reshape(1, 1, 3, 3)\n",
        "\n",
        "sobel_x, sobel_y = sobel_x.to(device), sobel_y.to(device)\n",
        "\n",
        "\n",
        "def apply_sobel_filter(images):\n",
        "    # Ensure images are on the same device as the Sobel filters\n",
        "    images = images.to(device)\n",
        "\n",
        "    #images = images.squeeze(2)\n",
        "    images = images.unsqueeze(1)\n",
        "\n",
        "    # Apply Sobel filter in x and y directions\n",
        "    grad_x = F.conv2d(images, sobel_x, padding = 1)\n",
        "    grad_y = F.conv2d(images, sobel_y, padding = 1)\n",
        "\n",
        "    # Calculate gradient magnitude\n",
        "    gradient_magnitude = torch.sqrt(grad_x ** 2 + grad_y ** 2)\n",
        "\n",
        "    # Normalize to range [0, 1] (optional)\n",
        "    gradient_magnitude = (gradient_magnitude - gradient_magnitude.min()) / (gradient_magnitude.max() - gradient_magnitude.min())\n",
        "\n",
        "    return gradient_magnitude\n",
        "\n",
        "X_train = apply_sobel_filter(X_train)\n"
      ],
      "metadata": {
        "id": "bB3A06NC2SuK"
      },
      "execution_count": 41,
      "outputs": []
    },
    {
      "cell_type": "markdown",
      "source": [
        "Random paveiksliukai po duomenų apdorojimo"
      ],
      "metadata": {
        "id": "7JJaQ4dLUlzS"
      }
    },
    {
      "cell_type": "code",
      "source": [
        "import matplotlib.pyplot as plt\n",
        "import random\n",
        "\n",
        "def show_random_image(images):\n",
        "\n",
        "    # Get the random image\n",
        "    for i in range(15):\n",
        "      random_index = random.randint(0, images.shape[0] - 1)\n",
        "      image = images[random_index]\n",
        "\n",
        "\n",
        "      image = image.squeeze(0)\n",
        "\n",
        "      # Convert the image to numpy array and display\n",
        "      image_np = image.cpu().detach().numpy()  # Move to CPU and convert to NumPy\n",
        "      plt.subplot (3,5, i+1)\n",
        "      plt.imshow(image_np, cmap='gray')\n",
        "      plt.axis('off')\n",
        "\n",
        "\n",
        "show_random_image(X_train)"
      ],
      "metadata": {
        "colab": {
          "base_uri": "https://localhost:8080/",
          "height": 383
        },
        "id": "avPLAIrbDbDi",
        "outputId": "afaebb48-1795-4443-8b0b-059a2e56cd47"
      },
      "execution_count": 30,
      "outputs": [
        {
          "output_type": "display_data",
          "data": {
            "text/plain": [
              "<Figure size 640x480 with 15 Axes>"
            ],
            "image/png": "[encoded data removed]"
          },
          "metadata": {}
        }
      ]
    },
    {
      "cell_type": "code",
      "source": [
        "from sklearn.model_selection import train_test_split\n",
        "\n",
        "X_train, X_test, y_train, y_test = train_test_split(X_train, y_train, test_size = 0.1, random_state=42)"
      ],
      "metadata": {
        "id": "oTxpZ21Eq72-"
      },
      "execution_count": 31,
      "outputs": []
    },
    {
      "cell_type": "code",
      "source": [
        "from torch.utils.data import TensorDataset, DataLoader\n",
        "\n",
        "train_dataset = TensorDataset(X_train, y_train)\n",
        "test_dataset = TensorDataset(X_test, y_test)\n",
        "\n",
        "train_loader = DataLoader(train_dataset, batch_size = 64, shuffle=True)\n",
        "test_loader = DataLoader(test_dataset, batch_size = 64, shuffle = False)"
      ],
      "metadata": {
        "id": "XhWKla6Dr_fq"
      },
      "execution_count": 32,
      "outputs": []
    },
    {
      "cell_type": "markdown",
      "source": [
        "# Modelio treniravimas"
      ],
      "metadata": {
        "id": "KaZgN-GGM5Ox"
      }
    },
    {
      "cell_type": "markdown",
      "source": [
        "CNN modelis"
      ],
      "metadata": {
        "id": "DkogBMVHQLcZ"
      }
    },
    {
      "cell_type": "code",
      "source": [
        "import torch\n",
        "import torch.nn as nn\n",
        "import torch.optim as optim\n",
        "from torch.utils.data import Dataset, DataLoader\n",
        "import numpy as np\n",
        "from torchvision import transforms\n",
        "\n",
        "# Define the CNN Model\n",
        "class ShapeCornerCNN(nn.Module):\n",
        "    def __init__(self):\n",
        "        super(ShapeCornerCNN, self).__init__()\n",
        "\n",
        "        self.features = nn.Sequential(\n",
        "            # First conv block\n",
        "            nn.Conv2d(1, 32, kernel_size=3, padding=1),\n",
        "            nn.ReLU(),\n",
        "            nn.BatchNorm2d(32),\n",
        "            nn.MaxPool2d(2, 2),\n",
        "\n",
        "            # Second conv block\n",
        "            nn.Conv2d(32, 64, kernel_size=3, padding=1),\n",
        "            nn.ReLU(),\n",
        "            nn.BatchNorm2d(64),\n",
        "            nn.MaxPool2d(2, 2),\n",
        "\n",
        "            # Third conv block\n",
        "            nn.Conv2d(64, 128, kernel_size=3, padding=1),\n",
        "            nn.ReLU(),\n",
        "            nn.BatchNorm2d(128),\n",
        "            nn.MaxPool2d(2, 2)\n",
        "        )\n",
        "\n",
        "        # Calculate the size after convolutions\n",
        "        self.flatten_size = 128 * 6 * 6  # For 50x50 input\n",
        "\n",
        "        self.classifier = nn.Sequential(\n",
        "            nn.Dropout(0.5),\n",
        "            nn.Linear(self.flatten_size, 128),\n",
        "            nn.ReLU(),\n",
        "            nn.Dropout(0.3),\n",
        "            nn.Linear(128, 64),\n",
        "            nn.ReLU(),\n",
        "            nn.Linear(64, 5)  # 5 classes for different numbers of corners\n",
        "        )\n",
        "\n",
        "    def forward(self, x):\n",
        "        x = self.features(x)\n",
        "        x = x.view(-1, self.flatten_size)\n",
        "        x = self.classifier(x)\n",
        "        return x"
      ],
      "metadata": {
        "id": "hGJ9nuNOgzfH"
      },
      "execution_count": 33,
      "outputs": []
    },
    {
      "cell_type": "code",
      "source": [
        "import torch.optim as optim\n",
        "\n",
        "#model = CornerClassifierCNN(output_size=5)\n",
        "model = ShapeCornerCNN()\n",
        "#model = SmallNet().to(device)\n",
        "criterion = nn.CrossEntropyLoss()\n",
        "#optimizer = optim.Adam(model.parameters(), lr=0.001)\n",
        "optimizer = optim.Adadelta(model.parameters())\n",
        "\n",
        "device = torch.device(\"cuda\" if torch.cuda.is_available() else \"cpu\")\n",
        "model.to(device)\n",
        "# Training the model\n",
        "epochs = 10\n",
        "for epoch in range(epochs):\n",
        "    model.train()  # Set to training mode\n",
        "    running_loss = 0.0\n",
        "\n",
        "    for images, labels in train_loader:\n",
        "      # Ensure images have 1 channel\n",
        "        images = images.view(-1, 1, 50, 50)  # Adjust to 1 channel and 50x50 dimensions\n",
        "\n",
        "        # Move data to GPU if available\n",
        "        images, labels = images.to(device), labels.to(device)\n",
        "\n",
        "        # Forward pass\n",
        "        outputs = model(images)\n",
        "        loss = criterion(outputs, labels)\n",
        "\n",
        "        # Backward pass and optimization\n",
        "        optimizer.zero_grad()\n",
        "        loss.backward()\n",
        "        optimizer.step()\n",
        "\n",
        "        running_loss += loss.item()\n",
        "\n",
        "    # Print loss per epoch\n",
        "    print(f\"Epoch {epoch+1}/{epochs}, Loss: {running_loss/len(train_loader):.4f}\")"
      ],
      "metadata": {
        "colab": {
          "base_uri": "https://localhost:8080/"
        },
        "id": "H3Vkh4LRf08r",
        "outputId": "7f67496e-cc4d-4e81-b157-f113c5c26cc0"
      },
      "execution_count": 34,
      "outputs": [
        {
          "output_type": "stream",
          "name": "stdout",
          "text": [
            "Epoch 1/10, Loss: 0.6138\n",
            "Epoch 2/10, Loss: 0.1918\n",
            "Epoch 3/10, Loss: 0.1693\n",
            "Epoch 4/10, Loss: 0.1542\n",
            "Epoch 5/10, Loss: 0.1528\n",
            "Epoch 6/10, Loss: 0.1473\n",
            "Epoch 7/10, Loss: 0.1392\n",
            "Epoch 8/10, Loss: 0.1322\n",
            "Epoch 9/10, Loss: 0.1362\n",
            "Epoch 10/10, Loss: 0.1250\n"
          ]
        }
      ]
    },
    {
      "cell_type": "code",
      "source": [
        "\n",
        "model.eval()  # Set the model to evaluation mode\n",
        "correct_test = 0\n",
        "total_test = 0\n",
        "\n",
        "with torch.no_grad():  # No need to track gradients during testing\n",
        "    for images, labels in test_loader:\n",
        "        images, labels = images.to(device).float(), labels.to(device)\n",
        "        images = images.view(-1, 1, 50, 50)\n",
        "\n",
        "        # Forward pass\n",
        "        outputs = model(images)\n",
        "\n",
        "        # Compute predictions and accuracy\n",
        "        _, predicted = torch.max(outputs, 1)\n",
        "        correct_test += (predicted == labels).sum().item()\n",
        "        total_test += labels.size(0)\n",
        "\n",
        "test_accuracy = 100 * correct_test / total_test\n",
        "print(f\"Test Accuracy: {test_accuracy:.2f}%\")\n",
        "print (f\"Total test images: {total_test}\")\n",
        "print (f\"Correct test images: {correct_test}\")\n"
      ],
      "metadata": {
        "colab": {
          "base_uri": "https://localhost:8080/"
        },
        "id": "RmtXMlbinB4s",
        "outputId": "1897f433-7d72-4c94-b638-e5ffa75301c7"
      },
      "execution_count": 35,
      "outputs": [
        {
          "output_type": "stream",
          "name": "stdout",
          "text": [
            "Test Accuracy: 98.32%\n",
            "Total test images: 1427\n",
            "Correct test images: 1403\n"
          ]
        }
      ]
    },
    {
      "cell_type": "markdown",
      "source": [
        "# Modelio įvertinimas"
      ],
      "metadata": {
        "id": "KViW63Xh7QrR"
      }
    },
    {
      "cell_type": "markdown",
      "source": [
        "Apdorojam evaluation skirtus duomenis ir užkraunam į dataloader"
      ],
      "metadata": {
        "id": "mdXHKFAwVUL7"
      }
    },
    {
      "cell_type": "code",
      "source": [
        "import torch\n",
        "from torch.utils.data import DataLoader, TensorDataset\n",
        "\n",
        "X_eval = torch.tensor(X_eval, dtype=torch.float32)\n",
        "\n",
        "\n",
        "#X_eval = apply_sobel_filter(X_eval)\n",
        "#X_eval = augment_with_scaling(X_eval, min_scale=0.5, max_scale=1.5)\n",
        "X_eval = augment_with_scaling(X_eval, min_scale=0.5, max_scale=2)\n",
        "\n",
        "\n",
        "eval_dataset = TensorDataset(X_eval)\n",
        "eval_loader = DataLoader(dataset=eval_dataset, batch_size=64, shuffle=False)"
      ],
      "metadata": {
        "id": "AC1SonK2bGL7"
      },
      "execution_count": 36,
      "outputs": []
    },
    {
      "cell_type": "code",
      "source": [
        "import matplotlib.pyplot as plt\n",
        "\n",
        "plt.figure(figsize=(5,3))\n",
        "for i in range(15):\n",
        "  plt.subplot (3,5, i+1)\n",
        "  plt.imshow(X_eval[i], cmap='gray')\n",
        "  plt.axis('off')\n",
        "plt.show()"
      ],
      "metadata": {
        "colab": {
          "base_uri": "https://localhost:8080/",
          "height": 266
        },
        "id": "8cZV4pZ9kDOu",
        "outputId": "70cad9ec-1f39-4323-dacf-63c5940344df"
      },
      "execution_count": null,
      "outputs": [
        {
          "output_type": "display_data",
          "data": {
            "text/plain": [
              "<Figure size 500x300 with 15 Axes>"
            ],
            "image/png": "[encoded data removed]"
          },
          "metadata": {}
        }
      ]
    },
    {
      "cell_type": "code",
      "source": [
        "\n",
        "# Make predictions\n",
        "model.eval()\n",
        "# List to store predictions\n",
        "predictions = []\n",
        "\n",
        "with torch.no_grad():  # Disable gradient tracking\n",
        "    for batch in eval_loader:  # Assuming eval_loader is your DataLoader for the evaluation set\n",
        "        images = batch[0]\n",
        "        images = images.to(device).float()\n",
        "\n",
        "        # Ensure images have the correct shape\n",
        "        images = images.view(-1, 1, 50, 50)\n",
        "\n",
        "        # Forward pass to get predictions\n",
        "        outputs = model(images)\n",
        "\n",
        "        # Get the predicted class (rounded to nearest integer, as specified)\n",
        "        _, predicted_classes = torch.max(outputs, 1)\n",
        "        predictions.extend(predicted_classes.cpu().numpy())  # Append predictions to the list\n",
        "\n",
        "predictions = np.array(predictions)\n",
        "\n",
        "predictions = np.where(predictions != 0, predictions + 2, predictions)\n",
        "# Convert predictions to the required string format\n",
        "result = ''.join([str(int(p)) for p in predictions])  # Convert integers to string and join\n",
        "\n",
        "# Display result or save as needed\n",
        "print(\"Predicted output as a single string:\", result)\n",
        "\n",
        "print(f\"Length of prediction string: {len(result)}\")\n",
        "\n",
        "with open('predictions.txt', 'w') as f:\n",
        "    f.write(result)"
      ],
      "metadata": {
        "colab": {
          "base_uri": "https://localhost:8080/"
        },
        "id": "qC9eEpXn7k4d",
        "outputId": "255b7f76-b51a-407a-b249-158d0351f577"
      },
      "execution_count": 37,
      "outputs": [
        {
          "output_type": "stream",
          "name": "stdout",
          "text": [
            "Predicted output as a single string: 6645533343400063340545465645540463050355660333004363364366664064553303655503043350530664600355355463530403365345345040035360650004655530445455543654345046545635635636546303536656365660360305666463536336363336336465353306053566453360450054500063446060346643400453633456446546354503346300344553655053533306444055363443403030605300064655506334560544330054364500443044350645463346060306564305653645045356533336636330660644345504354536063644433663304055544504505345553050664300303444544504030306344006554333400506636544330334035643434343650403330363543435603556463440550643403430450565505303434536654356435035004453066464566036403330463456364406563043554443345350663053566660564533336350334356344353343060333043443433504546433334036630054450544503643600503355633656300553303033036463444460546453433660605604345456536403330035505464066564430553033365340544530633643635653364030035430440356534344063556033036433354560635036440504640065344340360630645656404363635646435404000566355305364603035300453665355604454560366065300453055344643054505003640633033300355366455363044363454665305346550453446603355040336344366406566034430635645460030055644643436454555666535604534433533403656453455534635504300045363464434440365505440353066633435455505544440035566563444365006465334333654054465343003434466346465433440434444330364534565056636553350466366665444065035404305464055003066363646443506034056346345655363030563036546534303465653566303600330536353436333434335066330534556336543636533053664463544460404363630445655330334564353535300043333343453445064635566334303000404403305345440056456654646036363046453663443444334334364535344333565433446553504546563640503053635566330536553405563434335030303564065630335564353604646560446546334656646034645633405050533554434534053504534406566040353534050034445565535646605453535630533063453436563543544605056506046536044436563044440033640300365503465030335635304543503564033033543435664056553346400556563443446463556044360305553306600055344056563654053560300656335553436354636400330664340433345565444300563355536004040300460065555046566654663363660654645500503003630650436003654440605564505646630346355433505630004404465444333403544403353305434636435445550503645406353043335346063545366004536504054343043033336453304430466340456433534534536333403355666553334454634033053654043354456536650536533346333434535463464434035503535343436364653634550440500435666345606454665640553644340635346054344304443504645543556060034444434435605505646056505054364430550453306065566635536005634355634443355443436333404335360534644440440545463635040636333636444354445040543006605653655360446635564036306434533006445454004534466356330350345040343305300544054345635344534604554430666300406443045344343330335336056053464306403345334566006634436303345550653600560654463633334506505630605464635403660354436456553634040053405653564645535345460353400465565535430003533663334533506646403603630434654540343400453654430433000355665550305343654336630366533660345044400350604444543035603563050306033344665435655030343536346556005546533663660360430535500665336003655054633553303006404450450634554536533463300535503360036660060405034434464335060446450303343443056545544336343330055464646043364344636436445334043030353350433055033603455534653363030644354304633634536330666330045505005663635345635334344404364433545505543543504363456364430445430535344605443000655533404304553404646665353600035505645536635353336406044460044504306453444053003540444443605544643530663430364663560334463546064033535564663345340634036465533560355556644334504545366446435043330000534403446344565465064664063655545056533536530460566530553366643363553453456305045534303640053455366366565536434064604033444343434050564556366435335343633056430044454646560054446633606044356663444330444403453356403504340435330335464553365063505053666400503343035363405346543530544463644305400303650645653340666304453636660043403354334663054500044040500435660540656663334434336336363453544360300356304455653446334043305004353335554660666335543340534444563060645650564536434443463400404005455505436460500000053443330566564665363305643355000563435365655645656433406335063566553500653635654630534444345055343545305666664644306463460036046463034550033543340354543564563503564656055403630566030534404035343554053034363044364045365544355303463560306545363406335534546646653500550646504344500345435643630505536343436300363643530353436606330535535304635565464054634506555366353545345355400430305533654000345360535005653063443654636635650630534606340066305304566354633455355455503600054533434356446356440350530650453503444530334353043044603354035330305450533640405355666543060563433333663636354435463033530643635356430066600034363434554334333065006336554643463563440005464440305003046440443634503300000633634654433533665605665343540005454463634435034463446603640555543540533344640433530543355406440604656644404605530003663553300653533334050334644403600464446460453606646504355350553343646335604355344465540443303500303655540656333503345330533456454450036666053604334340533036436336553535630550563343006003330555604503650663344663353444343653450356546335533503654563304506665535636306444056464503445466556453534336536440406656533060345640545544403630555336443430440603353034634556566344464343330053634304340666403044333433450643535530554563303565553304360336430335065665366063533063460635034533643053064546066036360355364434403564433444643653546504430646436035564633456530303564346033503636400004563555354646663433053043636330443444434545346353456343360363635030063464036330665043460505456545343406653406403335555066043040504443034063506000333653005635035644500656303030065603630653035054363055460454534033546465335333565453554563046305405444433564554604563334034644435660463463063500334600045334336050344466654053533004446655543553533656640334605336503056633463644006663534363303406344503035354304433604636333345630035066355354333003344646665445540045440564543500305553344056334545404344365605545040055334635300654304564403405530555534306344666635536040454454454436343564066633305646650543634053335334450346434300360600534655040034065403404555303435534306645354344665640066354334000650353503650003546535356346350400553433650660034343635030336335564364334536654443540044036303306360554344433033543364443033605035353446336404453306045063060603036563644055540464463055550545444333065544403534354655356400640354460050465545363344350043656055435366634033045360365653505054350436656634436604333433530533363636043000634404666330665033035055345664346634436553363436656453433363543404503443454456645363344340505304503036630553363000633054430503045304005335335340366333430463654655443606544053550346363034035353644044553030334305466364063434460554506643556536343006544030365546560005356333453533003404553354035430466444034553606435543303606665035443353633353366300366536055446456430533333564440564336533353455563665365645400400534054630634306653646560044540456345533434634654536545360355436356633450635445333606563656464364643446356343355635663503560450644446543335604443546033454333406303666665060360350365044034645664400456434534566640536065430463504033443546044300363455345635464350666454450636440355546036350366400645365356404344450453635364353034043650305033063545363046606356355604330543604063466644305533353665333464333354663634354645433345356404404556040406434544454345464333645530336500050535433433630464536335550556636504340045344356466666665034350063335553505430456604346346334443665535660354444543440436406046000654564446436305335544355455343303333345446563453530534653465366650333534053335056336304304000060055640654053344000456644640504066063660543303630503034660036544435364054544663065434033533360406443565306634656534560043343563363656444456664540304650550345606004403606046455653433636355533330303005433456405563556363330534535655005666300366345365004433443540553066530004554564344055436333553345345063634064050634356006506443646446366333333065346665050603665335044366534444050063546304463335643530343343006033545443646653665405655554353435545403605353303536300303455306604463503306560036656530354004364545643440403360303066460443450044534633440603656306364346536435433464464433456000336334504465646643343430405433655534554434430460334463643030644433440334640630346064304443403544533436636563455064443633645633550035304403544045303633604436535403604363550443560300443660340655356450346533003335033366453455545443366460440534430645530346303456645434036366304346305034406003344456003006330665650646033545306463460364403453056534534533300330044646535665555554033505360334500405343464464635565655465503464555554030430005665306334660333036465644500643004460335653563304344034430304635434033303304405454663645064043033430045064550056634453300036344646636436335655565445354053640643034350665333366445650605464503305063353430443643563500553363343565335555654003556660353346400036554033360563036353664455633540463305646453460063600500454363656555364363303604665664363655004440336066640364504530634446446544335664646304033046344355433356633530363444333340353355005606565560435364053556360466006436450436034465436356350546445333534335345033334433063444300534443536600505304650556404454555563545454053033340363045430536056443565454530546605635343664004033543644033560035666556643630604345633604543354634435355345303633564433650654530606366653034653030034340446566604334663366344354453066603634330333530630003533634305350000004554046665404306553443504300635036560663465355645633345663436000445066605333033064453656303666364360666536306335444356354553650666340344505355550466563403455363646055545003033343433440353506633344665405455636056036400305646033553303345305365503466306334436533555006053634453443345035344340636030505463055036333045454006354630655450354430453346455030656535400434350533446035060346555343506646636355033360436054466046365450455444555456543030556344335660003464633636643444030634546404500603046365004036353554506650550504554500350604344634543445334406366366454450464545050655603364046533354654633433440564455444306653000606446605333644035433406430635\n",
            "Length of prediction string: 10000\n"
          ]
        }
      ]
    },
    {
      "cell_type": "code",
      "source": [
        "torch.save(model.state_dict(), \"model_weights.pth\")\n",
        "torch.save(model, \"model.pth\")\n"
      ],
      "metadata": {
        "id": "oUT5I2PedLaZ"
      },
      "execution_count": 38,
      "outputs": []
    }
  ]
}